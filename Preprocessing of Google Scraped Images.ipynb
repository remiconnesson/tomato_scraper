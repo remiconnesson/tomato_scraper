{
 "cells": [
  {
   "cell_type": "markdown",
   "metadata": {},
   "source": [
    "In this notebook we are going to download a list of images we previously scraped on google images. \n",
    "\n",
    "The urls of the images are stored in a .txt file, separated by '\\n' characters.\n",
    "\n",
    "You can learn how to do this by following this notebook here : \n",
    "- Fast.AI \n",
    "- French there: "
   ]
  },
  {
   "cell_type": "markdown",
   "metadata": {},
   "source": [
    "# Extracting URLs from the .txt file"
   ]
  },
  {
   "cell_type": "code",
   "execution_count": 11,
   "metadata": {},
   "outputs": [],
   "source": [
    "from pathlib import Path\n",
    "import os\n",
    "\n",
    "# Get current directory\n",
    "p = Path('.')\n",
    "\n",
    "# Provide path to the .txt files with the url inside\n",
    "tomato_urls_txt = p/\"tomato_urls.txt\"\n",
    "pepper_urls_txt = p/\"pepper_urls.txt\" \n",
    "\n",
    "# Reading the whole content of the file at once and ..\n",
    "# .. then splitting it into a list at each \"back to line\" ..\n",
    "# .. character, or more precisely '\\n'\n",
    "# .. This results in a list of url to images.\n",
    "tomato_urls = tomato_urls_txt.read_text().split('\\n')\n",
    "pepper_urls = pepper_urls_txt.read_text().split('\\n')"
   ]
  }
 ],
 "metadata": {
  "kernelspec": {
   "display_name": "fastai",
   "language": "python",
   "name": "fastai"
  },
  "language_info": {
   "codemirror_mode": {
    "name": "ipython",
    "version": 3
   },
   "file_extension": ".py",
   "mimetype": "text/x-python",
   "name": "python",
   "nbconvert_exporter": "python",
   "pygments_lexer": "ipython3",
   "version": "3.7.2"
  }
 },
 "nbformat": 4,
 "nbformat_minor": 2
}
